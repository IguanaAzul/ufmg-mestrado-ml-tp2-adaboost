{
 "cells": [
  {
   "cell_type": "markdown",
   "id": "6ee99839",
   "metadata": {},
   "source": [
    "## TP2: Implementação do Algoritmo de Boosting - Enunciado\n",
    "### Descrição\n",
    "Sabemos que erros de um modelo de previsão podem ser decompostos em dois fatores: viés e variância. Um modelo complexo apresenta pouco viés, mas grande variância, enquanto um modelo simples apresenta grande viés e pouca variância.\n",
    "Boosting é o processo de reduzir o viés de um grande conjunto de modelos simples (i.e., com baixa variância). Esses modelos são chamados de modelos fracos, e são levemente correlacionados com a classifição correta. No processo de Boosting, os modelos fracos formam um modelo mais forte de maneira iterativa. Os modelos fracos são escolhidos iterativamente, de forma que cada modelo é escolhido levando-se em conta viéses independentes. Ou seja, cada modelo componente realiza erros diferentes de outros modelos componentes.\n",
    "### Objetivo\n",
    "Nosso foco neste trabalho prático é ganhar experiência com o processo de Boosting. Você deverá implementar o processo de Boosting (visto em sala de aula) assumindo um problema de classificação binária com atributos categóricos. Em particular, você deverá realizar os experimentos utilizando o dataset tic-tac-toe, disponível em https://archive.ics.uci.edu/ml/datasets/Tic-Tac-Toe+Endgame. Sua avaliação deverá seguir a metodologia de validação cruzada com 5 partições. A medida de eficácia a ser considerada é a taxa de erro simples. Você deverá implementar todo o processo de Boosting, e portanto não é permitido utilizar soluções prontas (embora não seja necessário implementar funções básicas). A escolha da linguagem\n",
    "de programação é uma decisão do aluno.\n",
    "### Entregáveis\n",
    "Você deverá entregar, via Moodle da disciplina e dentro do prazo, arquivo contendo o código fonte do programa desenvolvido, bem como a documentação. A documentação deve conter toda a informação referente a suas escolhas de implementação. Além disso, você deverá fazer uma série de análises de erro, e reportar os resultados obtidos. Os gráficos a serem apresentados devem refletir experimentos que avaliem aspectos relacionados ao processo de Boosting, como por exemplo o número de iterações."
   ]
  },
  {
   "cell_type": "code",
   "execution_count": 1,
   "id": "fa3dcbdf",
   "metadata": {
    "ExecuteTime": {
     "end_time": "2023-06-20T10:43:46.029041Z",
     "start_time": "2023-06-20T10:43:46.027019Z"
    }
   },
   "outputs": [],
   "source": [
    "# Muda a pasta de execução para a raíz do projeto.\n",
    "# Facilida import do algoritmo e leitura dos dodos.\n",
    "import os\n",
    "from pathlib import Path\n",
    "os.chdir(f\"{Path.cwd().parent}\")"
   ]
  },
  {
   "cell_type": "markdown",
   "id": "1fd82e37",
   "metadata": {},
   "source": [
    "A implementação do Adaboost se encontra no arquivo Adaboost.py, na pasta adaboost, que pode ser encontrada na raíz do projeto"
   ]
  },
  {
   "cell_type": "code",
   "execution_count": 2,
   "id": "e80ee8c9",
   "metadata": {
    "ExecuteTime": {
     "end_time": "2023-06-20T10:43:46.308370Z",
     "start_time": "2023-06-20T10:43:46.031082Z"
    }
   },
   "outputs": [],
   "source": [
    "# Import do Adaboost (Checar arquivo AdaBoost.py para ver implementação).\n",
    "from adaboost import AdaBoost"
   ]
  },
  {
   "cell_type": "code",
   "execution_count": 3,
   "id": "ba894931",
   "metadata": {
    "ExecuteTime": {
     "end_time": "2023-06-20T10:43:46.312481Z",
     "start_time": "2023-06-20T10:43:46.310954Z"
    }
   },
   "outputs": [],
   "source": [
    "import numpy as np\n",
    "import pandas as pd\n",
    "from sklearn.model_selection import RepeatedStratifiedKFold\n",
    "import seaborn as sns\n",
    "from matplotlib import pyplot as plt"
   ]
  },
  {
   "cell_type": "code",
   "execution_count": 4,
   "id": "62c51ad7",
   "metadata": {
    "ExecuteTime": {
     "end_time": "2023-06-20T10:43:46.352145Z",
     "start_time": "2023-06-20T10:43:46.313478Z"
    }
   },
   "outputs": [
    {
     "data": {
      "text/html": [
       "<div>\n",
       "<style scoped>\n",
       "    .dataframe tbody tr th:only-of-type {\n",
       "        vertical-align: middle;\n",
       "    }\n",
       "\n",
       "    .dataframe tbody tr th {\n",
       "        vertical-align: top;\n",
       "    }\n",
       "\n",
       "    .dataframe thead th {\n",
       "        text-align: right;\n",
       "    }\n",
       "</style>\n",
       "<table border=\"1\" class=\"dataframe\">\n",
       "  <thead>\n",
       "    <tr style=\"text-align: right;\">\n",
       "      <th></th>\n",
       "      <th>x</th>\n",
       "      <th>x.1</th>\n",
       "      <th>x.2</th>\n",
       "      <th>x.3</th>\n",
       "      <th>o</th>\n",
       "      <th>o.1</th>\n",
       "      <th>x.4</th>\n",
       "      <th>o.2</th>\n",
       "      <th>o.3</th>\n",
       "      <th>positive</th>\n",
       "    </tr>\n",
       "  </thead>\n",
       "  <tbody>\n",
       "    <tr>\n",
       "      <th>0</th>\n",
       "      <td>x</td>\n",
       "      <td>x</td>\n",
       "      <td>x</td>\n",
       "      <td>x</td>\n",
       "      <td>o</td>\n",
       "      <td>o</td>\n",
       "      <td>o</td>\n",
       "      <td>x</td>\n",
       "      <td>o</td>\n",
       "      <td>positive</td>\n",
       "    </tr>\n",
       "    <tr>\n",
       "      <th>1</th>\n",
       "      <td>x</td>\n",
       "      <td>x</td>\n",
       "      <td>x</td>\n",
       "      <td>x</td>\n",
       "      <td>o</td>\n",
       "      <td>o</td>\n",
       "      <td>o</td>\n",
       "      <td>o</td>\n",
       "      <td>x</td>\n",
       "      <td>positive</td>\n",
       "    </tr>\n",
       "    <tr>\n",
       "      <th>2</th>\n",
       "      <td>x</td>\n",
       "      <td>x</td>\n",
       "      <td>x</td>\n",
       "      <td>x</td>\n",
       "      <td>o</td>\n",
       "      <td>o</td>\n",
       "      <td>o</td>\n",
       "      <td>b</td>\n",
       "      <td>b</td>\n",
       "      <td>positive</td>\n",
       "    </tr>\n",
       "    <tr>\n",
       "      <th>3</th>\n",
       "      <td>x</td>\n",
       "      <td>x</td>\n",
       "      <td>x</td>\n",
       "      <td>x</td>\n",
       "      <td>o</td>\n",
       "      <td>o</td>\n",
       "      <td>b</td>\n",
       "      <td>o</td>\n",
       "      <td>b</td>\n",
       "      <td>positive</td>\n",
       "    </tr>\n",
       "    <tr>\n",
       "      <th>4</th>\n",
       "      <td>x</td>\n",
       "      <td>x</td>\n",
       "      <td>x</td>\n",
       "      <td>x</td>\n",
       "      <td>o</td>\n",
       "      <td>o</td>\n",
       "      <td>b</td>\n",
       "      <td>b</td>\n",
       "      <td>o</td>\n",
       "      <td>positive</td>\n",
       "    </tr>\n",
       "  </tbody>\n",
       "</table>\n",
       "</div>"
      ],
      "text/plain": [
       "   x x.1 x.2 x.3  o o.1 x.4 o.2 o.3  positive\n",
       "0  x   x   x   x  o   o   o   x   o  positive\n",
       "1  x   x   x   x  o   o   o   o   x  positive\n",
       "2  x   x   x   x  o   o   o   b   b  positive\n",
       "3  x   x   x   x  o   o   b   o   b  positive\n",
       "4  x   x   x   x  o   o   b   b   o  positive"
      ]
     },
     "execution_count": 4,
     "metadata": {},
     "output_type": "execute_result"
    }
   ],
   "source": [
    "# Leitura do dado.\n",
    "df_tic_tac_toe = pd.read_csv(\"data/tic-tac-toe.data\")\n",
    "df_tic_tac_toe.head()"
   ]
  },
  {
   "cell_type": "code",
   "execution_count": 5,
   "id": "cb9603cd",
   "metadata": {},
   "outputs": [
    {
     "data": {
      "text/plain": [
       "(957, 10)"
      ]
     },
     "execution_count": 5,
     "metadata": {},
     "output_type": "execute_result"
    }
   ],
   "source": [
    "df_tic_tac_toe.shape"
   ]
  },
  {
   "cell_type": "code",
   "execution_count": 6,
   "id": "d8093078",
   "metadata": {
    "ExecuteTime": {
     "end_time": "2023-06-20T10:43:46.355404Z",
     "start_time": "2023-06-20T10:43:46.349152Z"
    }
   },
   "outputs": [
    {
     "data": {
      "text/html": [
       "<div>\n",
       "<style scoped>\n",
       "    .dataframe tbody tr th:only-of-type {\n",
       "        vertical-align: middle;\n",
       "    }\n",
       "\n",
       "    .dataframe tbody tr th {\n",
       "        vertical-align: top;\n",
       "    }\n",
       "\n",
       "    .dataframe thead th {\n",
       "        text-align: right;\n",
       "    }\n",
       "</style>\n",
       "<table border=\"1\" class=\"dataframe\">\n",
       "  <thead>\n",
       "    <tr style=\"text-align: right;\">\n",
       "      <th></th>\n",
       "      <th>x_b</th>\n",
       "      <th>x_o</th>\n",
       "      <th>x_x</th>\n",
       "      <th>x.1_b</th>\n",
       "      <th>x.1_o</th>\n",
       "      <th>x.1_x</th>\n",
       "      <th>x.2_b</th>\n",
       "      <th>x.2_o</th>\n",
       "      <th>x.2_x</th>\n",
       "      <th>x.3_b</th>\n",
       "      <th>...</th>\n",
       "      <th>o.1_x</th>\n",
       "      <th>x.4_b</th>\n",
       "      <th>x.4_o</th>\n",
       "      <th>x.4_x</th>\n",
       "      <th>o.2_b</th>\n",
       "      <th>o.2_o</th>\n",
       "      <th>o.2_x</th>\n",
       "      <th>o.3_b</th>\n",
       "      <th>o.3_o</th>\n",
       "      <th>o.3_x</th>\n",
       "    </tr>\n",
       "  </thead>\n",
       "  <tbody>\n",
       "    <tr>\n",
       "      <th>0</th>\n",
       "      <td>False</td>\n",
       "      <td>False</td>\n",
       "      <td>True</td>\n",
       "      <td>False</td>\n",
       "      <td>False</td>\n",
       "      <td>True</td>\n",
       "      <td>False</td>\n",
       "      <td>False</td>\n",
       "      <td>True</td>\n",
       "      <td>False</td>\n",
       "      <td>...</td>\n",
       "      <td>False</td>\n",
       "      <td>False</td>\n",
       "      <td>True</td>\n",
       "      <td>False</td>\n",
       "      <td>False</td>\n",
       "      <td>False</td>\n",
       "      <td>True</td>\n",
       "      <td>False</td>\n",
       "      <td>True</td>\n",
       "      <td>False</td>\n",
       "    </tr>\n",
       "    <tr>\n",
       "      <th>1</th>\n",
       "      <td>False</td>\n",
       "      <td>False</td>\n",
       "      <td>True</td>\n",
       "      <td>False</td>\n",
       "      <td>False</td>\n",
       "      <td>True</td>\n",
       "      <td>False</td>\n",
       "      <td>False</td>\n",
       "      <td>True</td>\n",
       "      <td>False</td>\n",
       "      <td>...</td>\n",
       "      <td>False</td>\n",
       "      <td>False</td>\n",
       "      <td>True</td>\n",
       "      <td>False</td>\n",
       "      <td>False</td>\n",
       "      <td>True</td>\n",
       "      <td>False</td>\n",
       "      <td>False</td>\n",
       "      <td>False</td>\n",
       "      <td>True</td>\n",
       "    </tr>\n",
       "    <tr>\n",
       "      <th>2</th>\n",
       "      <td>False</td>\n",
       "      <td>False</td>\n",
       "      <td>True</td>\n",
       "      <td>False</td>\n",
       "      <td>False</td>\n",
       "      <td>True</td>\n",
       "      <td>False</td>\n",
       "      <td>False</td>\n",
       "      <td>True</td>\n",
       "      <td>False</td>\n",
       "      <td>...</td>\n",
       "      <td>False</td>\n",
       "      <td>False</td>\n",
       "      <td>True</td>\n",
       "      <td>False</td>\n",
       "      <td>True</td>\n",
       "      <td>False</td>\n",
       "      <td>False</td>\n",
       "      <td>True</td>\n",
       "      <td>False</td>\n",
       "      <td>False</td>\n",
       "    </tr>\n",
       "    <tr>\n",
       "      <th>3</th>\n",
       "      <td>False</td>\n",
       "      <td>False</td>\n",
       "      <td>True</td>\n",
       "      <td>False</td>\n",
       "      <td>False</td>\n",
       "      <td>True</td>\n",
       "      <td>False</td>\n",
       "      <td>False</td>\n",
       "      <td>True</td>\n",
       "      <td>False</td>\n",
       "      <td>...</td>\n",
       "      <td>False</td>\n",
       "      <td>True</td>\n",
       "      <td>False</td>\n",
       "      <td>False</td>\n",
       "      <td>False</td>\n",
       "      <td>True</td>\n",
       "      <td>False</td>\n",
       "      <td>True</td>\n",
       "      <td>False</td>\n",
       "      <td>False</td>\n",
       "    </tr>\n",
       "    <tr>\n",
       "      <th>4</th>\n",
       "      <td>False</td>\n",
       "      <td>False</td>\n",
       "      <td>True</td>\n",
       "      <td>False</td>\n",
       "      <td>False</td>\n",
       "      <td>True</td>\n",
       "      <td>False</td>\n",
       "      <td>False</td>\n",
       "      <td>True</td>\n",
       "      <td>False</td>\n",
       "      <td>...</td>\n",
       "      <td>False</td>\n",
       "      <td>True</td>\n",
       "      <td>False</td>\n",
       "      <td>False</td>\n",
       "      <td>True</td>\n",
       "      <td>False</td>\n",
       "      <td>False</td>\n",
       "      <td>False</td>\n",
       "      <td>True</td>\n",
       "      <td>False</td>\n",
       "    </tr>\n",
       "  </tbody>\n",
       "</table>\n",
       "<p>5 rows × 27 columns</p>\n",
       "</div>"
      ],
      "text/plain": [
       "     x_b    x_o   x_x  x.1_b  x.1_o  x.1_x  x.2_b  x.2_o  x.2_x  x.3_b  ...  \\\n",
       "0  False  False  True  False  False   True  False  False   True  False  ...   \n",
       "1  False  False  True  False  False   True  False  False   True  False  ...   \n",
       "2  False  False  True  False  False   True  False  False   True  False  ...   \n",
       "3  False  False  True  False  False   True  False  False   True  False  ...   \n",
       "4  False  False  True  False  False   True  False  False   True  False  ...   \n",
       "\n",
       "   o.1_x  x.4_b  x.4_o  x.4_x  o.2_b  o.2_o  o.2_x  o.3_b  o.3_o  o.3_x  \n",
       "0  False  False   True  False  False  False   True  False   True  False  \n",
       "1  False  False   True  False  False   True  False  False  False   True  \n",
       "2  False  False   True  False   True  False  False   True  False  False  \n",
       "3  False   True  False  False  False   True  False   True  False  False  \n",
       "4  False   True  False  False   True  False  False  False   True  False  \n",
       "\n",
       "[5 rows x 27 columns]"
      ]
     },
     "execution_count": 6,
     "metadata": {},
     "output_type": "execute_result"
    }
   ],
   "source": [
    "# Aplicando one-hot-encoding para as variáveis, já que podemos ter 3 valores em cada coluna,\n",
    "# Precisamos torná-las variáveis binárias.\n",
    "x = pd.get_dummies(df_tic_tac_toe.drop(columns=['positive']))\n",
    "x.head()"
   ]
  },
  {
   "cell_type": "code",
   "execution_count": 7,
   "id": "198e65be",
   "metadata": {},
   "outputs": [],
   "source": [
    "x = x.values"
   ]
  },
  {
   "cell_type": "markdown",
   "id": "196a57ae",
   "metadata": {},
   "source": [
    "![title](imgs/weights_update.png)"
   ]
  },
  {
   "cell_type": "code",
   "execution_count": 8,
   "id": "208a6d7c",
   "metadata": {
    "ExecuteTime": {
     "end_time": "2023-06-20T10:43:46.360513Z",
     "start_time": "2023-06-20T10:43:46.355404Z"
    }
   },
   "outputs": [
    {
     "data": {
      "text/plain": [
       "0    1\n",
       "1    1\n",
       "2    1\n",
       "3    1\n",
       "4    1\n",
       "Name: positive, dtype: int64"
      ]
     },
     "execution_count": 8,
     "metadata": {},
     "output_type": "execute_result"
    }
   ],
   "source": [
    "# Transforma o target em -1 e 1, para se adequar à forma como os pesos são calculados no algoritmo Adaboost.\n",
    "y = df_tic_tac_toe['positive'].replace({\"positive\": 1, \"negative\": -1})\n",
    "y.head()"
   ]
  },
  {
   "cell_type": "code",
   "execution_count": 9,
   "id": "03f8ef5e",
   "metadata": {},
   "outputs": [],
   "source": [
    "y = y.values"
   ]
  },
  {
   "cell_type": "code",
   "execution_count": 10,
   "id": "1e8eaca4",
   "metadata": {
    "ExecuteTime": {
     "end_time": "2023-06-20T10:54:28.316873Z",
     "start_time": "2023-06-20T10:43:46.362508Z"
    }
   },
   "outputs": [],
   "source": [
    "# Aplica-se um Repeated Stratified K-Fold para fazer uma validação cruzada.\n",
    "# Escolheu-se utilizar o K-Fold estratificado para evitar desbalanceamento de classes nos folds.\n",
    "# Foi utilizado o Repeated K-Fold para fazer uma estimativa mais precisa do resultado do modelo.\n",
    "# Pois é feita uma validação cruzada repetidas vezes com folds randomizados.\n",
    "# Foi realizada uma validação cruzada com 5 folds 3 vezes.\n",
    "rkf = RepeatedStratifiedKFold(n_splits=5, n_repeats=3, random_state=1)\n",
    "training_score_histories = list()\n",
    "test_score_histories = list()\n",
    "for train_index, test_index in rkf.split(x, y):\n",
    "    adaboost = AdaBoost(n_stumps=500)\n",
    "    training_score_history, test_score_history = adaboost.fit(x[train_index], y[train_index], x_test=x[test_index], y_test=y[test_index])\n",
    "    training_score_histories.append(training_score_history)\n",
    "    test_score_histories.append(test_score_history)"
   ]
  },
  {
   "cell_type": "code",
   "execution_count": 11,
   "id": "2e89ca32",
   "metadata": {},
   "outputs": [],
   "source": [
    "# Faz a média do histórico dos score de treino e teste por fold e repetição.\n",
    "# Para cada valor de número de Stumps.\n",
    "training_score_history_fold_mean = np.array(training_score_histories).mean(axis=0)\n",
    "test_score_history_fold_mean = np.array(test_score_histories).mean(axis=0)"
   ]
  },
  {
   "cell_type": "code",
   "execution_count": 12,
   "id": "63ee63e6",
   "metadata": {
    "ExecuteTime": {
     "end_time": "2023-06-20T10:54:46.475068Z",
     "start_time": "2023-06-20T10:54:46.320488Z"
    }
   },
   "outputs": [
    {
     "data": {
      "image/png": "[encoded data removed]",
      "text/plain": [
       "<Figure size 640x480 with 1 Axes>"
      ]
     },
     "metadata": {},
     "output_type": "display_data"
    }
   ],
   "source": [
    "sns.lineplot(training_score_history_fold_mean, label=\"Treino\", color=\"green\", alpha=0.6)\n",
    "sns.lineplot(test_score_history_fold_mean, label=\"Teste\", color=\"red\", alpha=0.6)\n",
    "plt.ylabel(\"Acurácia Longo do Treinamento\")\n",
    "plt.xlabel(\"Número de Stumps do Modelo\")\n",
    "plt.grid()\n",
    "plt.show()"
   ]
  },
  {
   "cell_type": "code",
   "execution_count": 13,
   "id": "5135b17f",
   "metadata": {
    "scrolled": true
   },
   "outputs": [
    {
     "name": "stdout",
     "output_type": "stream",
     "text": [
      "Acurácia final do modelo 0.9818862710878418\n"
     ]
    }
   ],
   "source": [
    "print(f\"Acurácia final do modelo {test_score_history_fold_mean[-1]}\")"
   ]
  },
  {
   "cell_type": "markdown",
   "id": "321bd56f",
   "metadata": {},
   "source": [
    "- Pode-se perceber que a Acurácia estabiliza depois de um certo número de stumps (para de aumentar).\n",
    "- Pode-se perceber também que, como é esperado do Adaboost, não há overfitting, os erros de treino e de teste não se afastam à medida que a complexidade do modelo aumenta.\n",
    "- A acurácia do melhor modelo é bem melhor do que a do modelo com apenas um Stump. De 98% para 65% é uma diferença muito considerável."
   ]
  }
 ],
 "metadata": {
  "kernelspec": {
   "display_name": "Python 3 (ipykernel)",
   "language": "python",
   "name": "python3"
  },
  "language_info": {
   "codemirror_mode": {
    "name": "ipython",
    "version": 3
   },
   "file_extension": ".py",
   "mimetype": "text/x-python",
   "name": "python",
   "nbconvert_exporter": "python",
   "pygments_lexer": "ipython3",
   "version": "3.11.3"
  }
 },
 "nbformat": 4,
 "nbformat_minor": 5
}
