{
 "cells": [
  {
   "cell_type": "code",
   "execution_count": 1,
   "id": "fa3dcbdf",
   "metadata": {
    "ExecuteTime": {
     "end_time": "2023-06-20T10:43:46.029041Z",
     "start_time": "2023-06-20T10:43:46.027019Z"
    }
   },
   "outputs": [],
   "source": [
    "import os\n",
    "from pathlib import Path\n",
    "os.chdir(f\"{Path.cwd().parent}\")"
   ]
  },
  {
   "cell_type": "code",
   "execution_count": 2,
   "id": "e80ee8c9",
   "metadata": {
    "ExecuteTime": {
     "end_time": "2023-06-20T10:43:46.308370Z",
     "start_time": "2023-06-20T10:43:46.031082Z"
    }
   },
   "outputs": [],
   "source": [
    "from adaboost import AdaBoost"
   ]
  },
  {
   "cell_type": "code",
   "execution_count": 3,
   "id": "ba894931",
   "metadata": {
    "ExecuteTime": {
     "end_time": "2023-06-20T10:43:46.312481Z",
     "start_time": "2023-06-20T10:43:46.310954Z"
    }
   },
   "outputs": [],
   "source": [
    "import numpy as np\n",
    "import pandas as pd\n",
    "from sklearn.model_selection import RepeatedStratifiedKFold\n",
    "import seaborn as sns\n",
    "from matplotlib import pyplot as plt"
   ]
  },
  {
   "cell_type": "code",
   "execution_count": 4,
   "id": "62c51ad7",
   "metadata": {
    "ExecuteTime": {
     "end_time": "2023-06-20T10:43:46.352145Z",
     "start_time": "2023-06-20T10:43:46.313478Z"
    }
   },
   "outputs": [
    {
     "data": {
      "text/html": [
       "<div>\n",
       "<style scoped>\n",
       "    .dataframe tbody tr th:only-of-type {\n",
       "        vertical-align: middle;\n",
       "    }\n",
       "\n",
       "    .dataframe tbody tr th {\n",
       "        vertical-align: top;\n",
       "    }\n",
       "\n",
       "    .dataframe thead th {\n",
       "        text-align: right;\n",
       "    }\n",
       "</style>\n",
       "<table border=\"1\" class=\"dataframe\">\n",
       "  <thead>\n",
       "    <tr style=\"text-align: right;\">\n",
       "      <th></th>\n",
       "      <th>x</th>\n",
       "      <th>x.1</th>\n",
       "      <th>x.2</th>\n",
       "      <th>x.3</th>\n",
       "      <th>o</th>\n",
       "      <th>o.1</th>\n",
       "      <th>x.4</th>\n",
       "      <th>o.2</th>\n",
       "      <th>o.3</th>\n",
       "      <th>positive</th>\n",
       "    </tr>\n",
       "  </thead>\n",
       "  <tbody>\n",
       "    <tr>\n",
       "      <th>0</th>\n",
       "      <td>x</td>\n",
       "      <td>x</td>\n",
       "      <td>x</td>\n",
       "      <td>x</td>\n",
       "      <td>o</td>\n",
       "      <td>o</td>\n",
       "      <td>o</td>\n",
       "      <td>x</td>\n",
       "      <td>o</td>\n",
       "      <td>positive</td>\n",
       "    </tr>\n",
       "    <tr>\n",
       "      <th>1</th>\n",
       "      <td>x</td>\n",
       "      <td>x</td>\n",
       "      <td>x</td>\n",
       "      <td>x</td>\n",
       "      <td>o</td>\n",
       "      <td>o</td>\n",
       "      <td>o</td>\n",
       "      <td>o</td>\n",
       "      <td>x</td>\n",
       "      <td>positive</td>\n",
       "    </tr>\n",
       "    <tr>\n",
       "      <th>2</th>\n",
       "      <td>x</td>\n",
       "      <td>x</td>\n",
       "      <td>x</td>\n",
       "      <td>x</td>\n",
       "      <td>o</td>\n",
       "      <td>o</td>\n",
       "      <td>o</td>\n",
       "      <td>b</td>\n",
       "      <td>b</td>\n",
       "      <td>positive</td>\n",
       "    </tr>\n",
       "    <tr>\n",
       "      <th>3</th>\n",
       "      <td>x</td>\n",
       "      <td>x</td>\n",
       "      <td>x</td>\n",
       "      <td>x</td>\n",
       "      <td>o</td>\n",
       "      <td>o</td>\n",
       "      <td>b</td>\n",
       "      <td>o</td>\n",
       "      <td>b</td>\n",
       "      <td>positive</td>\n",
       "    </tr>\n",
       "    <tr>\n",
       "      <th>4</th>\n",
       "      <td>x</td>\n",
       "      <td>x</td>\n",
       "      <td>x</td>\n",
       "      <td>x</td>\n",
       "      <td>o</td>\n",
       "      <td>o</td>\n",
       "      <td>b</td>\n",
       "      <td>b</td>\n",
       "      <td>o</td>\n",
       "      <td>positive</td>\n",
       "    </tr>\n",
       "  </tbody>\n",
       "</table>\n",
       "</div>"
      ],
      "text/plain": [
       "   x x.1 x.2 x.3  o o.1 x.4 o.2 o.3  positive\n",
       "0  x   x   x   x  o   o   o   x   o  positive\n",
       "1  x   x   x   x  o   o   o   o   x  positive\n",
       "2  x   x   x   x  o   o   o   b   b  positive\n",
       "3  x   x   x   x  o   o   b   o   b  positive\n",
       "4  x   x   x   x  o   o   b   b   o  positive"
      ]
     },
     "execution_count": 4,
     "metadata": {},
     "output_type": "execute_result"
    }
   ],
   "source": [
    "df_tic_tac_toe = pd.read_csv(\"data/tic-tac-toe.data\")\n",
    "df_tic_tac_toe.head()"
   ]
  },
  {
   "cell_type": "code",
   "execution_count": 5,
   "id": "d8093078",
   "metadata": {
    "ExecuteTime": {
     "end_time": "2023-06-20T10:43:46.355404Z",
     "start_time": "2023-06-20T10:43:46.349152Z"
    }
   },
   "outputs": [],
   "source": [
    "x = pd.get_dummies(df_tic_tac_toe.drop(columns=['positive'])).values"
   ]
  },
  {
   "cell_type": "code",
   "execution_count": 6,
   "id": "208a6d7c",
   "metadata": {
    "ExecuteTime": {
     "end_time": "2023-06-20T10:43:46.360513Z",
     "start_time": "2023-06-20T10:43:46.355404Z"
    }
   },
   "outputs": [],
   "source": [
    "y = df_tic_tac_toe['positive'].replace({\"positive\": 1, \"negative\": -1}).values"
   ]
  },
  {
   "cell_type": "code",
   "execution_count": 7,
   "id": "1e8eaca4",
   "metadata": {
    "ExecuteTime": {
     "end_time": "2023-06-20T10:54:28.316873Z",
     "start_time": "2023-06-20T10:43:46.362508Z"
    }
   },
   "outputs": [],
   "source": [
    "rkf = RepeatedStratifiedKFold(n_splits=5, n_repeats=10, random_state=1)\n",
    "training_score_histories = list()\n",
    "test_score_histories = list()\n",
    "for train_index, test_index in rkf.split(x, y):\n",
    "    adaboost = AdaBoost(n_stumps=500)\n",
    "    training_score_history, test_score_history = adaboost.fit(x[train_index], y[train_index], x_test=x[test_index], y_test=y[test_index])\n",
    "    training_score_histories.append(training_score_history)\n",
    "    test_score_histories.append(test_score_history)"
   ]
  },
  {
   "cell_type": "code",
   "execution_count": 8,
   "id": "2e89ca32",
   "metadata": {},
   "outputs": [],
   "source": [
    "training_score_history_fold_mean = np.array(training_score_histories).mean(axis=0)\n",
    "test_score_history_fold_mean = np.array(test_score_histories).mean(axis=0)"
   ]
  },
  {
   "cell_type": "code",
   "execution_count": 9,
   "id": "63ee63e6",
   "metadata": {
    "ExecuteTime": {
     "end_time": "2023-06-20T10:54:46.475068Z",
     "start_time": "2023-06-20T10:54:46.320488Z"
    }
   },
   "outputs": [
    {
     "data": {
      "image/png": "[encoded data removed]",
      "text/plain": [
       "<Figure size 640x480 with 1 Axes>"
      ]
     },
     "metadata": {},
     "output_type": "display_data"
    }
   ],
   "source": [
    "sns.lineplot(training_score_history_fold_mean, label=\"Treino\", color=\"green\", alpha=0.6)\n",
    "sns.lineplot(test_score_history_fold_mean, label=\"Teste\", color=\"red\", alpha=0.6)\n",
    "plt.ylabel(\"Acurácia Longo do Treinamento\")\n",
    "plt.xlabel(\"Número de Stumps do Modelo\")\n",
    "plt.grid()\n",
    "plt.show()"
   ]
  },
  {
   "cell_type": "code",
   "execution_count": 10,
   "id": "5135b17f",
   "metadata": {},
   "outputs": [
    {
     "name": "stdout",
     "output_type": "stream",
     "text": [
      "Acurácia final do modelo 0.9819208115183247\n"
     ]
    }
   ],
   "source": [
    "print(f\"Acurácia final do modelo {test_score_history_fold_mean[-1]}\")"
   ]
  },
  {
   "cell_type": "code",
   "execution_count": null,
   "id": "f70925d9",
   "metadata": {
    "ExecuteTime": {
     "end_time": "2023-06-20T10:37:59.124100Z",
     "start_time": "2023-06-20T10:37:59.120517Z"
    }
   },
   "outputs": [],
   "source": []
  }
 ],
 "metadata": {
  "kernelspec": {
   "display_name": "Python 3 (ipykernel)",
   "language": "python",
   "name": "python3"
  },
  "language_info": {
   "codemirror_mode": {
    "name": "ipython",
    "version": 3
   },
   "file_extension": ".py",
   "mimetype": "text/x-python",
   "name": "python",
   "nbconvert_exporter": "python",
   "pygments_lexer": "ipython3",
   "version": "3.10.9"
  }
 },
 "nbformat": 4,
 "nbformat_minor": 5
}
